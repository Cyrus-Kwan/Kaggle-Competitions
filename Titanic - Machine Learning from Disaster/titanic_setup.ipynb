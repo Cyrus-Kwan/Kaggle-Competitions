{
 "cells": [
  {
   "attachments": {},
   "cell_type": "markdown",
   "metadata": {},
   "source": [
    "# Titanic Setup"
   ]
  },
  {
   "attachments": {},
   "cell_type": "markdown",
   "metadata": {},
   "source": [
    "### Downloading the Dataset\n",
    "Process of acquiring competition dataset using the Kaggle API."
   ]
  },
  {
   "cell_type": "code",
   "execution_count": 3,
   "metadata": {},
   "outputs": [
    {
     "name": "stdout",
     "output_type": "stream",
     "text": [
      "ref                                                                                           deadline             category             reward  teamCount  userHasEntered  \n",
      "--------------------------------------------------------------------------------------------  -------------------  ---------------  ----------  ---------  --------------  \n",
      "https://www.kaggle.com/competitions/vesuvius-challenge-ink-detection                          2023-06-14 23:59:00  Featured         $1,000,000       1258           False  \n",
      "https://www.kaggle.com/competitions/asl-fingerspelling                                        2023-08-24 23:59:00  Research           $200,000        268           False  \n",
      "https://www.kaggle.com/competitions/2023-kaggle-ai-report                                     2023-07-05 23:59:00  Analytics           $70,000         84           False  \n",
      "https://www.kaggle.com/competitions/icr-identify-age-related-conditions                       2023-08-10 23:59:00  Featured            $60,000       2753           False  \n",
      "https://www.kaggle.com/competitions/predict-student-performance-from-game-play                2023-06-28 23:59:00  Featured            $55,000       1792           False  \n",
      "https://www.kaggle.com/competitions/benetech-making-graphs-accessible                         2023-06-19 23:59:00  Featured            $50,000        573           False  \n",
      "https://www.kaggle.com/competitions/hubmap-hacking-the-human-vasculature                      2023-07-31 23:59:00  Research            $50,000        229           False  \n",
      "https://www.kaggle.com/competitions/google-research-identify-contrails-reduce-global-warming  2023-08-09 23:59:00  Research            $50,000        315           False  \n",
      "https://www.kaggle.com/competitions/cafa-5-protein-function-prediction                        2023-08-21 23:59:00  Research            $50,000        623           False  \n",
      "https://www.kaggle.com/competitions/playground-series-s3e17                                   2023-06-26 23:59:00  Playground             Swag         35           False  \n",
      "https://www.kaggle.com/competitions/titanic                                                   2030-01-01 00:00:00  Getting Started   Knowledge      15808           False  \n",
      "https://www.kaggle.com/competitions/house-prices-advanced-regression-techniques               2030-01-01 00:00:00  Getting Started   Knowledge       4640           False  \n",
      "https://www.kaggle.com/competitions/spaceship-titanic                                         2030-01-01 00:00:00  Getting Started   Knowledge       2642           False  \n",
      "https://www.kaggle.com/competitions/digit-recognizer                                          2030-01-01 00:00:00  Getting Started   Knowledge       1602           False  \n",
      "https://www.kaggle.com/competitions/nlp-getting-started                                       2030-01-01 00:00:00  Getting Started   Knowledge       1134           False  \n",
      "https://www.kaggle.com/competitions/connectx                                                  2030-01-01 00:00:00  Getting Started   Knowledge        197           False  \n",
      "https://www.kaggle.com/competitions/tpu-getting-started                                       2030-06-03 23:59:00  Getting Started   Knowledge        148           False  \n",
      "https://www.kaggle.com/competitions/store-sales-time-series-forecasting                       2030-06-30 23:59:00  Getting Started   Knowledge        820           False  \n",
      "https://www.kaggle.com/competitions/gan-getting-started                                       2030-07-01 23:59:00  Getting Started      Prizes         96           False  \n",
      "https://www.kaggle.com/competitions/contradictory-my-dear-watson                              2030-07-01 23:59:00  Getting Started      Prizes         62           False  \n"
     ]
    }
   ],
   "source": [
    "# List of officially hosted Kaggle competitions \n",
    "!kaggle competitions list"
   ]
  },
  {
   "cell_type": "code",
   "execution_count": 4,
   "metadata": {},
   "outputs": [
    {
     "name": "stdout",
     "output_type": "stream",
     "text": [
      "name                   size  creationDate         \n",
      "---------------------  ----  -------------------  \n",
      "test.csv               28KB  2018-04-09 05:33:22  \n",
      "train.csv              60KB  2018-04-09 05:33:22  \n",
      "gender_submission.csv   3KB  2018-04-09 05:33:22  \n"
     ]
    }
   ],
   "source": [
    "# View files in Titanic competition\n",
    "!kaggle competitions files titanic"
   ]
  },
  {
   "cell_type": "code",
   "execution_count": 5,
   "metadata": {},
   "outputs": [
    {
     "name": "stderr",
     "output_type": "stream",
     "text": [
      "\n",
      "  0%|          | 0.00/34.1k [00:00<?, ?B/s]\n",
      "100%|██████████| 34.1k/34.1k [00:00<00:00, 1.23MB/s]\n"
     ]
    },
    {
     "name": "stdout",
     "output_type": "stream",
     "text": [
      "Downloading titanic.zip to d:\\Documents\\Portfolio\\Kaggle-Competitions\\Titanic - Machine Learning from Disaster\n",
      "\n"
     ]
    }
   ],
   "source": [
    "# Download competition files\n",
    "!kaggle competitions download titanic"
   ]
  }
 ],
 "metadata": {
  "kernelspec": {
   "display_name": "base",
   "language": "python",
   "name": "python3"
  },
  "language_info": {
   "codemirror_mode": {
    "name": "ipython",
    "version": 3
   },
   "file_extension": ".py",
   "mimetype": "text/x-python",
   "name": "python",
   "nbconvert_exporter": "python",
   "pygments_lexer": "ipython3",
   "version": "3.10.9"
  },
  "orig_nbformat": 4,
  "vscode": {
   "interpreter": {
    "hash": "e428b864b69d52341d0c347ef3dd6dce185b36740d6b81adce88e1da79f226e5"
   }
  }
 },
 "nbformat": 4,
 "nbformat_minor": 2
}
