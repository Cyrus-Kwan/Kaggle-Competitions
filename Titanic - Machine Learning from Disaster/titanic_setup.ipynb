{
 "cells": [
  {
   "attachments": {},
   "cell_type": "markdown",
   "metadata": {},
   "source": [
    "# Titanic Setup"
   ]
  },
  {
   "attachments": {},
   "cell_type": "markdown",
   "metadata": {},
   "source": [
    "### Downloading the Dataset\n",
    "Process of acquiring competition dataset using the Kaggle API."
   ]
  },
  {
   "cell_type": "code",
   "execution_count": 2,
   "metadata": {},
   "outputs": [],
   "source": [
    "# Module to run and capture output from Kaggle API\n",
    "import subprocess"
   ]
  },
  {
   "cell_type": "code",
   "execution_count": 13,
   "metadata": {},
   "outputs": [
    {
     "data": {
      "text/plain": [
       "CompletedProcess(args=['kaggle', 'competitions', 'list'], returncode=0, stdout=b'ref                                                                                           deadline             category            reward  teamCount  userHasEntered  \\r\\n--------------------------------------------------------------------------------------------  -------------------  ---------------  ---------  ---------  --------------  \\r\\nhttps://www.kaggle.com/competitions/asl-fingerspelling                                        2023-08-24 23:59:00  Research          $200,000        294           False  \\r\\nhttps://www.kaggle.com/competitions/2023-kaggle-ai-report                                     2023-07-05 23:59:00  Analytics          $70,000         93           False  \\r\\nhttps://www.kaggle.com/competitions/icr-identify-age-related-conditions                       2023-08-10 23:59:00  Featured           $60,000       2919           False  \\r\\nhttps://www.kaggle.com/competitions/predict-student-performance-from-game-play                2023-06-28 23:59:00  Featured           $55,000       1853           False  \\r\\nhttps://www.kaggle.com/competitions/benetech-making-graphs-accessible                         2023-06-19 23:59:00  Featured           $50,000        584           False  \\r\\nhttps://www.kaggle.com/competitions/hubmap-hacking-the-human-vasculature                      2023-07-31 23:59:00  Research           $50,000        272           False  \\r\\nhttps://www.kaggle.com/competitions/google-research-identify-contrails-reduce-global-warming  2023-08-09 23:59:00  Research           $50,000        340           False  \\r\\nhttps://www.kaggle.com/competitions/cafa-5-protein-function-prediction                        2023-08-21 23:59:00  Research           $50,000        645           False  \\r\\nhttps://www.kaggle.com/competitions/playground-series-s3e17                                   2023-06-26 23:59:00  Playground            Swag        434           False  \\r\\nhttps://www.kaggle.com/competitions/titanic                                                   2030-01-01 00:00:00  Getting Started  Knowledge      15847           False  \\r\\nhttps://www.kaggle.com/competitions/house-prices-advanced-regression-techniques               2030-01-01 00:00:00  Getting Started  Knowledge       4673           False  \\r\\nhttps://www.kaggle.com/competitions/spaceship-titanic                                         2030-01-01 00:00:00  Getting Started  Knowledge       2656           False  \\r\\nhttps://www.kaggle.com/competitions/digit-recognizer                                          2030-01-01 00:00:00  Getting Started  Knowledge       1628           False  \\r\\nhttps://www.kaggle.com/competitions/nlp-getting-started                                       2030-01-01 00:00:00  Getting Started  Knowledge       1096           False  \\r\\nhttps://www.kaggle.com/competitions/connectx                                                  2030-01-01 00:00:00  Getting Started  Knowledge        189           False  \\r\\nhttps://www.kaggle.com/competitions/tpu-getting-started                                       2030-06-03 23:59:00  Getting Started  Knowledge        145           False  \\r\\nhttps://www.kaggle.com/competitions/store-sales-time-series-forecasting                       2030-06-30 23:59:00  Getting Started  Knowledge        845           False  \\r\\nhttps://www.kaggle.com/competitions/gan-getting-started                                       2030-07-01 23:59:00  Getting Started     Prizes         92           False  \\r\\nhttps://www.kaggle.com/competitions/contradictory-my-dear-watson                              2030-07-01 23:59:00  Getting Started     Prizes         64           False  \\r\\nhttps://www.kaggle.com/competitions/godaddy-microbusiness-density-forecasting                 2023-06-16 23:59:00  Featured           $60,000       3547           False  \\r\\n', stderr=b'')"
      ]
     },
     "execution_count": 13,
     "metadata": {},
     "output_type": "execute_result"
    }
   ],
   "source": [
    "# List of officially hosted Kaggle competitions \n",
    "subprocess.run(['kaggle', 'competitions', 'list'], capture_output=True)"
   ]
  },
  {
   "cell_type": "code",
   "execution_count": 14,
   "metadata": {},
   "outputs": [
    {
     "data": {
      "text/plain": [
       "CompletedProcess(args=['kaggle', 'competitions', 'files', 'titanic'], returncode=0, stdout=b'name                   size  creationDate         \\r\\n---------------------  ----  -------------------  \\r\\ngender_submission.csv   3KB  2018-04-09 05:33:22  \\r\\ntest.csv               28KB  2018-04-09 05:33:22  \\r\\ntrain.csv              60KB  2018-04-09 05:33:22  \\r\\n', stderr=b'')"
      ]
     },
     "execution_count": 14,
     "metadata": {},
     "output_type": "execute_result"
    }
   ],
   "source": [
    "# View files in Titanic competition\n",
    "subprocess.run(['kaggle', 'competitions', 'files', 'titanic'], capture_output=True)"
   ]
  },
  {
   "cell_type": "code",
   "execution_count": 15,
   "metadata": {},
   "outputs": [
    {
     "data": {
      "text/plain": [
       "CompletedProcess(args=['kaggle', 'competitions', 'download', 'titanic'], returncode=0, stdout=b'titanic.zip: Skipping, found more recently modified local copy (use --force to force download)\\r\\n', stderr=b'')"
      ]
     },
     "execution_count": 15,
     "metadata": {},
     "output_type": "execute_result"
    }
   ],
   "source": [
    "# Download competition files\n",
    "subprocess.run(['kaggle', 'competitions', 'download', 'titanic'], capture_output=True)"
   ]
  }
 ],
 "metadata": {
  "kernelspec": {
   "display_name": "base",
   "language": "python",
   "name": "python3"
  },
  "language_info": {
   "codemirror_mode": {
    "name": "ipython",
    "version": 3
   },
   "file_extension": ".py",
   "mimetype": "text/x-python",
   "name": "python",
   "nbconvert_exporter": "python",
   "pygments_lexer": "ipython3",
   "version": "3.10.9"
  },
  "orig_nbformat": 4,
  "vscode": {
   "interpreter": {
    "hash": "e428b864b69d52341d0c347ef3dd6dce185b36740d6b81adce88e1da79f226e5"
   }
  }
 },
 "nbformat": 4,
 "nbformat_minor": 2
}
