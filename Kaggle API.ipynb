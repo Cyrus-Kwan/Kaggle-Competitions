{
 "cells": [
  {
   "attachments": {},
   "cell_type": "markdown",
   "metadata": {},
   "source": [
    "# Kaggle API Installation\n",
    "Official API for https://www.kaggle.com, accessible using a command line tool implemented in Python 3.\n",
    "\n",
    "Beta release - Kaggle reserves the right to modify the API functionality currently offered.\n",
    "\n",
    "IMPORTANT: Competitions submissions using an API version prior to 1.5.0 may not work. If you are encountering difficulties with submitting to competitions, please check your version with ```kaggle --version```. If it is below 1.5.0, please update with ```pip install kaggle --upgrade```."
   ]
  },
  {
   "attachments": {},
   "cell_type": "markdown",
   "metadata": {},
   "source": [
    "### Installation\n",
    "Ensure you have Python 3 and the package manager ```pip``` installed.\n",
    "\n",
    "Run the following command to access the Kaggle API using the command line:\n",
    "\n",
    "```pip install kaggle``` (You may need to do ```pip install --user kaggle``` on Mac/Linux. This is recommended if problems come up during the installation process.) Installations done through the root user (i.e. ```sudo pip install kaggle```) will not work correctly unless you understand what you're doing. Even then, they still might not work. User installs are strongly recommended in the case of permissions errors.\n",
    "\n",
    "You can now use the ```kaggle``` command as shown in the examples below.\n",
    "\n",
    "If you run into a ```kaggle: command not found``` error, ensure that your python binaries are on your path. You can see where ```kaggle``` is installed by doing ```pip uninstall kaggle``` and seeing where the binary is. For a local user install on Linux, the default location is ```~/.local/bin```. On Windows, the default location is ```$PYTHON_HOME/Scripts```.\n",
    "\n",
    "IMPORTANT: We do not offer Python 2 support. Please ensure that you are using Python 3 before reporting any issues."
   ]
  },
  {
   "cell_type": "code",
   "execution_count": 17,
   "metadata": {},
   "outputs": [],
   "source": [
    "import pip\n",
    "\n",
    "def Import_or_Install(package):\n",
    "    try:\n",
    "        __import__(package)\n",
    "    except ImportError:\n",
    "        pip.main(['install', package])\n",
    "\n",
    "Import_or_Install('kaggle')\n"
   ]
  },
  {
   "attachments": {},
   "cell_type": "markdown",
   "metadata": {},
   "source": [
    "### API credentials\n",
    "To use the Kaggle API, sign up for a Kaggle account at https://www.kaggle.com. Then go to the 'Account' tab of your user profile (```https://www.kaggle.com/<username>/account```) and select 'Create API Token'. This will trigger the download of ```kaggle.json```, a file containing your API credentials. Place this file in the location ```~/.kaggle/kaggle.json``` (on Windows in the location ```C:\\Users\\<Windows-username>\\.kaggle\\kaggle.json``` - you can check the exact location, sans drive, with ```echo %HOMEPATH%```). You can define a shell environment variable ```KAGGLE_CONFIG_DIR``` to change this location to ```$KAGGLE_CONFIG_DIR/kaggle.json``` (on Windows it will be ```%KAGGLE_CONFIG_DIR%\\kaggle.json```).\n",
    "\n",
    "For your security, ensure that other users of your computer do not have read access to your credentials. On Unix-based systems you can do this with the following command:\n",
    "\n",
    "```chmod 600 ~/.kaggle/kaggle.json```\n",
    "\n",
    "You can also choose to export your Kaggle username and token to the environment:\n",
    "\n",
    "```\n",
    "export KAGGLE_USERNAME=datadinosaur\n",
    "export KAGGLE_KEY=xxxxxxxxxxxxxx\n",
    "```\n",
    "\n",
    "In addition, you can export any other configuration value that normally would be in the ```$HOME/.kaggle/kaggle.json``` in the format 'KAGGLE_' (note uppercase).\n",
    "For example, if the file had the variable \"proxy\" you would export ```KAGGLE_PROXY``` and it would be discovered by the client."
   ]
  },
  {
   "attachments": {},
   "cell_type": "markdown",
   "metadata": {},
   "source": [
    "### Usage\n",
    "\n",
    "- Commands\n",
    "    > https://github.com/Kaggle/kaggle-api#commands\n",
    "- Datasets\n",
    "    > https://github.com/Kaggle/kaggle-api#datasets\n",
    "- Kernels\n",
    "    > https://github.com/Kaggle/kaggle-api#kernels\n",
    "- Config\n",
    "    > https://github.com/Kaggle/kaggle-api#config"
   ]
  }
 ],
 "metadata": {
  "kernelspec": {
   "display_name": "Python 3",
   "language": "python",
   "name": "python3"
  },
  "language_info": {
   "codemirror_mode": {
    "name": "ipython",
    "version": 3
   },
   "file_extension": ".py",
   "mimetype": "text/x-python",
   "name": "python",
   "nbconvert_exporter": "python",
   "pygments_lexer": "ipython3",
   "version": "3.10.9"
  },
  "orig_nbformat": 4,
  "vscode": {
   "interpreter": {
    "hash": "e428b864b69d52341d0c347ef3dd6dce185b36740d6b81adce88e1da79f226e5"
   }
  }
 },
 "nbformat": 4,
 "nbformat_minor": 2
}
